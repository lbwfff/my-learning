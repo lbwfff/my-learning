{
 "cells": [
  {
   "cell_type": "code",
   "execution_count": 1,
   "id": "f4eed904-a8c6-4383-958c-18b11e6ff0fb",
   "metadata": {},
   "outputs": [
    {
     "name": "stderr",
     "output_type": "stream",
     "text": [
      "/home/lb4489/.local/lib/python3.10/site-packages/tqdm/auto.py:21: TqdmWarning: IProgress not found. Please update jupyter and ipywidgets. See https://ipywidgets.readthedocs.io/en/stable/user_install.html\n",
      "  from .autonotebook import tqdm as notebook_tqdm\n"
     ]
    }
   ],
   "source": [
    "from transformers import AutoTokenizer, AutoModelForMaskedLM, TrainingArguments, AutoModelForSequenceClassification\n",
    "import torch\n",
    "\n",
    "from sklearn.metrics import matthews_corrcoef, f1_score\n",
    "from sklearn.model_selection import train_test_split\n",
    "import matplotlib.pyplot as plt\n",
    "import numpy as np"
   ]
  },
  {
   "cell_type": "code",
   "execution_count": 2,
   "id": "363a8ec4-d849-44df-90c6-4ff3cb230235",
   "metadata": {},
   "outputs": [],
   "source": [
    "model_path = \"/scratch/lb4489/LLM\"\n",
    "\n",
    "# Import the tokenizer and the model\n",
    "tokenizer = AutoTokenizer.from_pretrained(\"InstaDeepAI/nucleotide-transformer-500m-human-ref\", cache_dir=model_path, trust_remote_code=True)\n",
    "model = AutoModelForMaskedLM.from_pretrained(\"InstaDeepAI/nucleotide-transformer-500m-human-ref\", cache_dir=model_path, trust_remote_code=True)"
   ]
  },
  {
   "cell_type": "code",
   "execution_count": null,
   "id": "8037a813-8505-4827-9d49-0643c485fa5f",
   "metadata": {},
   "outputs": [],
   "source": [
    "#试一下human的500m会不会比多物种的好一些,但是然而并没有什么区别，感觉在validate set上还差一点，更容易过拟合了？"
   ]
  },
  {
   "cell_type": "code",
   "execution_count": 3,
   "id": "391e722c-0239-4d65-95b3-a305d6a82678",
   "metadata": {},
   "outputs": [
    {
     "name": "stdin",
     "output_type": "stream",
     "text": [
      "The repository for InstaDeepAI/nucleotide-transformer-v2-500m-multi-species contains custom code which must be executed to correctly load the model. You can inspect the repository content at https://hf.co/InstaDeepAI/nucleotide-transformer-v2-500m-multi-species.\n",
      "You can avoid this prompt in future by passing the argument `trust_remote_code=True`.\n",
      "\n",
      "Do you wish to run the custom code? [y/N]  y\n",
      "The repository for InstaDeepAI/nucleotide-transformer-v2-500m-multi-species contains custom code which must be executed to correctly load the model. You can inspect the repository content at https://hf.co/InstaDeepAI/nucleotide-transformer-v2-500m-multi-species.\n",
      "You can avoid this prompt in future by passing the argument `trust_remote_code=True`.\n",
      "\n",
      "Do you wish to run the custom code? [y/N]  y\n"
     ]
    },
    {
     "name": "stderr",
     "output_type": "stream",
     "text": [
      "Some weights of the model checkpoint at InstaDeepAI/nucleotide-transformer-v2-500m-multi-species were not used when initializing EsmForSequenceClassification: ['lm_head.bias', 'lm_head.decoder.weight', 'lm_head.dense.bias', 'lm_head.dense.weight', 'lm_head.layer_norm.bias', 'lm_head.layer_norm.weight']\n",
      "- This IS expected if you are initializing EsmForSequenceClassification from the checkpoint of a model trained on another task or with another architecture (e.g. initializing a BertForSequenceClassification model from a BertForPreTraining model).\n",
      "- This IS NOT expected if you are initializing EsmForSequenceClassification from the checkpoint of a model that you expect to be exactly identical (initializing a BertForSequenceClassification model from a BertForSequenceClassification model).\n",
      "Some weights of EsmForSequenceClassification were not initialized from the model checkpoint at InstaDeepAI/nucleotide-transformer-v2-500m-multi-species and are newly initialized: ['classifier.dense.bias', 'classifier.dense.weight', 'classifier.out_proj.bias', 'classifier.out_proj.weight']\n",
      "You should probably TRAIN this model on a down-stream task to be able to use it for predictions and inference.\n"
     ]
    }
   ],
   "source": [
    "num_labels_promoter = 3\n",
    "\n",
    "# Load the model\n",
    "\n",
    "model = AutoModelForSequenceClassification.from_pretrained(\"InstaDeepAI/nucleotide-transformer-v2-500m-multi-species\", num_labels=num_labels_promoter, cache_dir=model_path)"
   ]
  },
  {
   "cell_type": "code",
   "execution_count": 4,
   "id": "81fc70c8-e54d-410f-b718-28d276718e3d",
   "metadata": {},
   "outputs": [
    {
     "name": "stdout",
     "output_type": "stream",
     "text": [
      "                                                 seq  label\n",
      "0  TTTTCTTCGCAGGATTTTTCTGAGCCTTTTACCACTCCAGCCTAGC...      1\n",
      "1  AGGCTGCTGCTGAGAAGGCAGTGACCAAGGAGGAATTTCAGGGTGA...      1\n",
      "2  ATTAGGAGGGCACTGGCCCCCAACAGGCATCACCCCGCTAAATCCC...      1\n",
      "3  GTGGCGCTGGGGTTGGCTCCATGACCAAGATCTATGGGGGACGTCA...      1\n",
      "4  TATTCTTGGCAGAGGCTACGGAAACAGGCCGAGAAGAACGTGGAGA...      1\n"
     ]
    }
   ],
   "source": [
    "import pandas as pd\n",
    "\n",
    "# 读取 TSV 文件\n",
    "df = pd.read_csv(\"/scratch/lb4489/project/mttRNA/trainset.csv\", sep=\",\")\n",
    "\n",
    "# 显示前几行\n",
    "print(df.head())"
   ]
  },
  {
   "cell_type": "code",
   "execution_count": 5,
   "id": "36d79e9b-dc70-4a5f-bb7d-8dc47e4b2909",
   "metadata": {},
   "outputs": [],
   "source": [
    "df_selected = df"
   ]
  },
  {
   "cell_type": "code",
   "execution_count": 6,
   "id": "efc4048c-cbf1-4d5f-a7b8-c08fdc9f99d4",
   "metadata": {},
   "outputs": [
    {
     "name": "stdout",
     "output_type": "stream",
     "text": [
      "label\n",
      "0    9438\n",
      "1    9139\n",
      "2    3136\n",
      "Name: count, dtype: int64\n"
     ]
    }
   ],
   "source": [
    "print(df_selected[\"label\"].value_counts())"
   ]
  },
  {
   "cell_type": "code",
   "execution_count": 7,
   "id": "dd070474-4dde-4d88-ac74-c2734652cba5",
   "metadata": {},
   "outputs": [],
   "source": [
    "from sklearn.model_selection import train_test_split\n",
    "from datasets import load_dataset, Dataset"
   ]
  },
  {
   "cell_type": "code",
   "execution_count": 8,
   "id": "6439f0c1-d57d-42f7-a8cd-da910c7cb3a6",
   "metadata": {},
   "outputs": [
    {
     "name": "stdout",
     "output_type": "stream",
     "text": [
      "Dataset({\n",
      "    features: ['data', 'label'],\n",
      "    num_rows: 17370\n",
      "})\n",
      "Dataset({\n",
      "    features: ['data', 'label'],\n",
      "    num_rows: 4343\n",
      "})\n"
     ]
    }
   ],
   "source": [
    "df_selected.columns = [\"data\", \"label\"]  \n",
    "df_selected[\"label\"] = df_selected[\"label\"].astype(int)\n",
    "\n",
    "train_data, val_data, train_labels, val_labels = train_test_split(\n",
    "    df_selected[\"data\"], df_selected[\"label\"], test_size=0.2, random_state=42\n",
    ")\n",
    "\n",
    "ds_train = Dataset.from_dict({\"data\": train_data.tolist(), \"label\": train_labels.tolist()})\n",
    "ds_validation = Dataset.from_dict({\"data\": val_data.tolist(), \"label\": val_labels.tolist()})\n",
    "\n",
    "print(ds_train)\n",
    "print(ds_validation)"
   ]
  },
  {
   "cell_type": "code",
   "execution_count": 9,
   "id": "97e4e0ba-c84f-4730-aa1d-ffc3ca29107e",
   "metadata": {},
   "outputs": [],
   "source": [
    "def tokenize_function(examples):\n",
    "    outputs = tokenizer(examples[\"data\"])\n",
    "    return outputs"
   ]
  },
  {
   "cell_type": "code",
   "execution_count": null,
   "id": "2bd91467-e740-44da-bb83-84d24e6fec16",
   "metadata": {},
   "outputs": [],
   "source": []
  },
  {
   "cell_type": "code",
   "execution_count": 10,
   "id": "086ed4e6-a164-43f7-969c-706db2592fe3",
   "metadata": {},
   "outputs": [
    {
     "name": "stderr",
     "output_type": "stream",
     "text": [
      "Map: 100%|██████████| 17370/17370 [00:06<00:00, 2579.49 examples/s]\n",
      "Map: 100%|██████████| 4343/4343 [00:01<00:00, 2596.73 examples/s]\n"
     ]
    }
   ],
   "source": [
    "tokenized_datasets_train = ds_train.map(\n",
    "    tokenize_function,\n",
    "    batched=True,\n",
    "    remove_columns=[\"data\"],\n",
    ")\n",
    "tokenized_datasets_validation = ds_validation.map(\n",
    "    tokenize_function,\n",
    "    batched=True,\n",
    "    remove_columns=[\"data\"],\n",
    ")"
   ]
  },
  {
   "cell_type": "code",
   "execution_count": null,
   "id": "89003190-4ab6-4bae-88ad-95443bb6898d",
   "metadata": {},
   "outputs": [],
   "source": []
  },
  {
   "cell_type": "code",
   "execution_count": 11,
   "id": "419f9a75-1841-4cea-8be3-149f131d91de",
   "metadata": {},
   "outputs": [],
   "source": [
    "import numpy as np\n",
    "import torch\n",
    "import torch.nn.functional as F\n",
    "from sklearn.metrics import accuracy_score, f1_score, recall_score\n",
    "from transformers import TrainingArguments, Trainer\n",
    "\n",
    "def compute_metrics(eval_pred):\n",
    "    logits, labels = eval_pred\n",
    "    predictions = np.argmax(logits, axis=-1)\n",
    "\n",
    "    # 计算 Accuracy, F1-score, Recall\n",
    "    acc = accuracy_score(labels, predictions)\n",
    "    f1 = f1_score(labels, predictions, average=\"weighted\")\n",
    "\n",
    "    return {\n",
    "        \"accuracy\": acc,\n",
    "        \"f1_score\": f1\n",
    "    }\n"
   ]
  },
  {
   "cell_type": "code",
   "execution_count": 12,
   "id": "966bb501-a6de-48a7-91e9-b6c43ea4ff0c",
   "metadata": {},
   "outputs": [],
   "source": [
    "device = torch.device(\"cuda\")\n",
    "model = model.to(device)"
   ]
  },
  {
   "cell_type": "code",
   "execution_count": null,
   "id": "9a1f4f5d-a0fc-4dff-94d0-f97788590683",
   "metadata": {},
   "outputs": [],
   "source": []
  },
  {
   "cell_type": "code",
   "execution_count": 13,
   "id": "037d994c-52ee-4ad2-b151-a946dcc34003",
   "metadata": {},
   "outputs": [
    {
     "name": "stderr",
     "output_type": "stream",
     "text": [
      "/home/lb4489/.local/lib/python3.10/site-packages/transformers/training_args.py:1575: FutureWarning: `evaluation_strategy` is deprecated and will be removed in version 4.46 of 🤗 Transformers. Use `eval_strategy` instead\n",
      "  warnings.warn(\n"
     ]
    }
   ],
   "source": [
    "batch_size = 16\n",
    "model_name='nucleotide-transformer'\n",
    "args_promoter = TrainingArguments(\n",
    "    f\"{model_name}-finetuned-NucleotideTransformer\",\n",
    "    remove_unused_columns=False,\n",
    "    evaluation_strategy=\"steps\",\n",
    "    save_strategy=\"steps\",\n",
    "    learning_rate=1e-5,\n",
    "    per_device_train_batch_size=batch_size,\n",
    "    gradient_accumulation_steps= 1,\n",
    "    per_device_eval_batch_size= 64,\n",
    "    num_train_epochs= 2,\n",
    "    logging_steps= 100,\n",
    "    load_best_model_at_end=True,  # Keep the best model according to the evaluation\n",
    "    metric_for_best_model=\"f1_score\",\n",
    "    label_names=[\"labels\"],\n",
    "    dataloader_drop_last=True,\n",
    "    max_steps= 3000,\n",
    "    weight_decay=0.01,  #gpt给的三个参数还挺重要的，能让表现提升\n",
    "    lr_scheduler_type=\"linear\", \n",
    "    warmup_ratio=0.1,\n",
    ")"
   ]
  },
  {
   "cell_type": "code",
   "execution_count": 14,
   "id": "85be318b-6123-4871-8e45-299b43114bfe",
   "metadata": {},
   "outputs": [
    {
     "name": "stderr",
     "output_type": "stream",
     "text": [
      "/tmpdata/ipykernel_3461313/1959967892.py:1: FutureWarning: `tokenizer` is deprecated and will be removed in version 5.0.0 for `Trainer.__init__`. Use `processing_class` instead.\n",
      "  trainer = Trainer(\n",
      "Detected kernel version 4.18.0, which is below the recommended minimum of 5.5.0; this can cause the process to hang. It is recommended to upgrade the kernel to the minimum version or higher.\n"
     ]
    }
   ],
   "source": [
    "trainer = Trainer(\n",
    "    model.to(device),\n",
    "    args=args_promoter,\n",
    "    train_dataset=tokenized_datasets_train,\n",
    "    eval_dataset=tokenized_datasets_validation,\n",
    "    tokenizer=tokenizer,\n",
    "    compute_metrics=compute_metrics,  # 使用新的 metrics 计算函数\n",
    ")"
   ]
  },
  {
   "cell_type": "code",
   "execution_count": 15,
   "id": "6beae63d-1e1c-4521-8288-3c00a60c5278",
   "metadata": {},
   "outputs": [
    {
     "data": {
      "text/html": [
       "\n",
       "    <div>\n",
       "      \n",
       "      <progress value='3000' max='3000' style='width:300px; height:20px; vertical-align: middle;'></progress>\n",
       "      [3000/3000 15:57, Epoch 2/3]\n",
       "    </div>\n",
       "    <table border=\"1\" class=\"dataframe\">\n",
       "  <thead>\n",
       " <tr style=\"text-align: left;\">\n",
       "      <th>Step</th>\n",
       "      <th>Training Loss</th>\n",
       "      <th>Validation Loss</th>\n",
       "      <th>Accuracy</th>\n",
       "      <th>F1 Score</th>\n",
       "    </tr>\n",
       "  </thead>\n",
       "  <tbody>\n",
       "    <tr>\n",
       "      <td>100</td>\n",
       "      <td>1.039400</td>\n",
       "      <td>0.977491</td>\n",
       "      <td>0.544543</td>\n",
       "      <td>0.500769</td>\n",
       "    </tr>\n",
       "    <tr>\n",
       "      <td>200</td>\n",
       "      <td>0.926800</td>\n",
       "      <td>0.902157</td>\n",
       "      <td>0.600513</td>\n",
       "      <td>0.555827</td>\n",
       "    </tr>\n",
       "    <tr>\n",
       "      <td>300</td>\n",
       "      <td>0.862700</td>\n",
       "      <td>0.746045</td>\n",
       "      <td>0.705924</td>\n",
       "      <td>0.654162</td>\n",
       "    </tr>\n",
       "    <tr>\n",
       "      <td>400</td>\n",
       "      <td>0.720400</td>\n",
       "      <td>0.665768</td>\n",
       "      <td>0.740905</td>\n",
       "      <td>0.687377</td>\n",
       "    </tr>\n",
       "    <tr>\n",
       "      <td>500</td>\n",
       "      <td>0.629800</td>\n",
       "      <td>0.659735</td>\n",
       "      <td>0.737640</td>\n",
       "      <td>0.693454</td>\n",
       "    </tr>\n",
       "    <tr>\n",
       "      <td>600</td>\n",
       "      <td>0.576900</td>\n",
       "      <td>0.586395</td>\n",
       "      <td>0.770522</td>\n",
       "      <td>0.732681</td>\n",
       "    </tr>\n",
       "    <tr>\n",
       "      <td>700</td>\n",
       "      <td>0.588900</td>\n",
       "      <td>0.569857</td>\n",
       "      <td>0.784049</td>\n",
       "      <td>0.777136</td>\n",
       "    </tr>\n",
       "    <tr>\n",
       "      <td>800</td>\n",
       "      <td>0.562000</td>\n",
       "      <td>0.591027</td>\n",
       "      <td>0.774021</td>\n",
       "      <td>0.729204</td>\n",
       "    </tr>\n",
       "    <tr>\n",
       "      <td>900</td>\n",
       "      <td>0.548200</td>\n",
       "      <td>0.534387</td>\n",
       "      <td>0.798041</td>\n",
       "      <td>0.775174</td>\n",
       "    </tr>\n",
       "    <tr>\n",
       "      <td>1000</td>\n",
       "      <td>0.506500</td>\n",
       "      <td>0.523659</td>\n",
       "      <td>0.802705</td>\n",
       "      <td>0.775412</td>\n",
       "    </tr>\n",
       "    <tr>\n",
       "      <td>1100</td>\n",
       "      <td>0.518200</td>\n",
       "      <td>0.527141</td>\n",
       "      <td>0.803638</td>\n",
       "      <td>0.778420</td>\n",
       "    </tr>\n",
       "    <tr>\n",
       "      <td>1200</td>\n",
       "      <td>0.387800</td>\n",
       "      <td>0.516343</td>\n",
       "      <td>0.813200</td>\n",
       "      <td>0.802344</td>\n",
       "    </tr>\n",
       "    <tr>\n",
       "      <td>1300</td>\n",
       "      <td>0.396300</td>\n",
       "      <td>0.508833</td>\n",
       "      <td>0.809701</td>\n",
       "      <td>0.779099</td>\n",
       "    </tr>\n",
       "    <tr>\n",
       "      <td>1400</td>\n",
       "      <td>0.368200</td>\n",
       "      <td>0.495818</td>\n",
       "      <td>0.815998</td>\n",
       "      <td>0.797768</td>\n",
       "    </tr>\n",
       "    <tr>\n",
       "      <td>1500</td>\n",
       "      <td>0.379400</td>\n",
       "      <td>0.497585</td>\n",
       "      <td>0.822528</td>\n",
       "      <td>0.808704</td>\n",
       "    </tr>\n",
       "    <tr>\n",
       "      <td>1600</td>\n",
       "      <td>0.367500</td>\n",
       "      <td>0.487521</td>\n",
       "      <td>0.821129</td>\n",
       "      <td>0.807414</td>\n",
       "    </tr>\n",
       "    <tr>\n",
       "      <td>1700</td>\n",
       "      <td>0.370300</td>\n",
       "      <td>0.455969</td>\n",
       "      <td>0.831157</td>\n",
       "      <td>0.824096</td>\n",
       "    </tr>\n",
       "    <tr>\n",
       "      <td>1800</td>\n",
       "      <td>0.344000</td>\n",
       "      <td>0.457009</td>\n",
       "      <td>0.834888</td>\n",
       "      <td>0.821089</td>\n",
       "    </tr>\n",
       "    <tr>\n",
       "      <td>1900</td>\n",
       "      <td>0.343900</td>\n",
       "      <td>0.489743</td>\n",
       "      <td>0.816231</td>\n",
       "      <td>0.823069</td>\n",
       "    </tr>\n",
       "    <tr>\n",
       "      <td>2000</td>\n",
       "      <td>0.307100</td>\n",
       "      <td>0.451541</td>\n",
       "      <td>0.836054</td>\n",
       "      <td>0.838172</td>\n",
       "    </tr>\n",
       "    <tr>\n",
       "      <td>2100</td>\n",
       "      <td>0.334100</td>\n",
       "      <td>0.418493</td>\n",
       "      <td>0.858675</td>\n",
       "      <td>0.852764</td>\n",
       "    </tr>\n",
       "    <tr>\n",
       "      <td>2200</td>\n",
       "      <td>0.261800</td>\n",
       "      <td>0.465395</td>\n",
       "      <td>0.844450</td>\n",
       "      <td>0.834114</td>\n",
       "    </tr>\n",
       "    <tr>\n",
       "      <td>2300</td>\n",
       "      <td>0.152600</td>\n",
       "      <td>0.428562</td>\n",
       "      <td>0.857976</td>\n",
       "      <td>0.851593</td>\n",
       "    </tr>\n",
       "    <tr>\n",
       "      <td>2400</td>\n",
       "      <td>0.118200</td>\n",
       "      <td>0.494672</td>\n",
       "      <td>0.849114</td>\n",
       "      <td>0.835213</td>\n",
       "    </tr>\n",
       "    <tr>\n",
       "      <td>2500</td>\n",
       "      <td>0.093300</td>\n",
       "      <td>0.472135</td>\n",
       "      <td>0.860541</td>\n",
       "      <td>0.854522</td>\n",
       "    </tr>\n",
       "    <tr>\n",
       "      <td>2600</td>\n",
       "      <td>0.095900</td>\n",
       "      <td>0.459827</td>\n",
       "      <td>0.866138</td>\n",
       "      <td>0.861305</td>\n",
       "    </tr>\n",
       "    <tr>\n",
       "      <td>2700</td>\n",
       "      <td>0.113800</td>\n",
       "      <td>0.472959</td>\n",
       "      <td>0.864739</td>\n",
       "      <td>0.856878</td>\n",
       "    </tr>\n",
       "    <tr>\n",
       "      <td>2800</td>\n",
       "      <td>0.085700</td>\n",
       "      <td>0.491469</td>\n",
       "      <td>0.860774</td>\n",
       "      <td>0.851276</td>\n",
       "    </tr>\n",
       "    <tr>\n",
       "      <td>2900</td>\n",
       "      <td>0.120000</td>\n",
       "      <td>0.450759</td>\n",
       "      <td>0.868237</td>\n",
       "      <td>0.863442</td>\n",
       "    </tr>\n",
       "    <tr>\n",
       "      <td>3000</td>\n",
       "      <td>0.082300</td>\n",
       "      <td>0.465757</td>\n",
       "      <td>0.868703</td>\n",
       "      <td>0.862372</td>\n",
       "    </tr>\n",
       "  </tbody>\n",
       "</table><p>"
      ],
      "text/plain": [
       "<IPython.core.display.HTML object>"
      ]
     },
     "metadata": {},
     "output_type": "display_data"
    },
    {
     "name": "stderr",
     "output_type": "stream",
     "text": [
      "Could not locate the best model at nucleotide-transformer-finetuned-NucleotideTransformer/checkpoint-2900/pytorch_model.bin, if you are running a distributed training on multiple nodes, you should activate `--save_on_each_node`.\n"
     ]
    },
    {
     "data": {
      "text/html": [],
      "text/plain": [
       "<IPython.core.display.HTML object>"
      ]
     },
     "metadata": {},
     "output_type": "display_data"
    },
    {
     "data": {
      "text/plain": [
       "{'eval_loss': 0.46575701236724854,\n",
       " 'eval_accuracy': 0.8687033582089553,\n",
       " 'eval_f1_score': 0.8623716170809165,\n",
       " 'eval_runtime': 10.4235,\n",
       " 'eval_samples_per_second': 416.655,\n",
       " 'eval_steps_per_second': 6.524,\n",
       " 'epoch': 2.7649769585253456}"
      ]
     },
     "execution_count": 15,
     "metadata": {},
     "output_type": "execute_result"
    }
   ],
   "source": [
    "trainer.train() \n",
    "trainer.evaluate()"
   ]
  },
  {
   "cell_type": "code",
   "execution_count": null,
   "id": "f52f3934-3c2a-47e1-a2da-6c2ccef1ac84",
   "metadata": {},
   "outputs": [],
   "source": []
  },
  {
   "cell_type": "code",
   "execution_count": 16,
   "id": "de6912a8-9365-4bb5-9ca7-95dee91b53bc",
   "metadata": {},
   "outputs": [],
   "source": [
    "curve_evaluation_f1_score = [[a['step'], a['eval_f1_score']] for a in trainer.state.log_history if 'eval_f1_score' in a]\n",
    "\n",
    "curve_evaluation_accuracy = [[a['step'], a['eval_accuracy']] for a in trainer.state.log_history if 'eval_accuracy' in a]\n",
    "\n",
    "\n",
    "eval_f1_score = [c[1] for c in curve_evaluation_f1_score]\n",
    "eval_accuracy = [c[1] for c in curve_evaluation_accuracy]\n",
    "\n",
    "steps = [c[0] for c in curve_evaluation_f1_score] "
   ]
  },
  {
   "cell_type": "code",
   "execution_count": 17,
   "id": "fad8b4cc-9e7e-49dc-995f-da128fa17c70",
   "metadata": {},
   "outputs": [
    {
     "data": {
      "image/png": "[encoded data removed]",
      "text/plain": [
       "<Figure size 1000x500 with 1 Axes>"
      ]
     },
     "metadata": {},
     "output_type": "display_data"
    }
   ],
   "source": [
    "plt.figure(figsize=(10, 5))\n",
    "\n",
    "plt.plot(steps, eval_f1_score, 'b', marker=\"o\", linestyle=\"-\", label='Validation F1 Score')\n",
    "\n",
    "plt.plot(steps, eval_accuracy, 'g', marker=\"o\", linestyle=\"--\", label='Validation Accuracy')\n",
    "\n",
    "plt.title('Evaluation Metrics Over Training Steps')\n",
    "plt.xlabel('Number of Training Steps')\n",
    "plt.ylabel('Score')\n",
    "plt.legend()\n",
    "plt.grid(True)\n",
    "\n",
    "plt.show()"
   ]
  },
  {
   "cell_type": "code",
   "execution_count": null,
   "id": "f83d322c-d6ab-46ad-be9a-81dfbd746480",
   "metadata": {},
   "outputs": [],
   "source": []
  },
  {
   "cell_type": "code",
   "execution_count": 18,
   "id": "3a0ed727-6232-4e48-8e8e-930053dc5d4f",
   "metadata": {},
   "outputs": [],
   "source": [
    "dfv = pd.read_csv(\"/scratch/lb4489/project/mttRNA/valiset.csv\", sep=\",\")\n",
    "dfv.columns = [\"data\", \"label\"] \n",
    "dfv[\"label\"] = dfv[\"label\"].astype(int)  \n",
    "\n",
    "ds_validation = Dataset.from_pandas(dfv)"
   ]
  },
  {
   "cell_type": "code",
   "execution_count": 19,
   "id": "f16d0a31-ed81-4307-bc4b-3691e5b43cac",
   "metadata": {},
   "outputs": [
    {
     "name": "stderr",
     "output_type": "stream",
     "text": [
      "Map: 100%|██████████| 2463/2463 [00:00<00:00, 2595.10 examples/s]\n"
     ]
    }
   ],
   "source": [
    "tokenized_datasets_vali = ds_validation.map(\n",
    "    tokenize_function,\n",
    "    batched=True,\n",
    "    remove_columns=[\"data\"],\n",
    ")"
   ]
  },
  {
   "cell_type": "code",
   "execution_count": 20,
   "id": "0a09a85a-a4a3-4454-94a0-372fecc54c75",
   "metadata": {},
   "outputs": [],
   "source": [
    "predictions = trainer.predict(tokenized_datasets_vali)\n"
   ]
  },
  {
   "cell_type": "code",
   "execution_count": 21,
   "id": "ea70247c-0647-4609-800e-974faa21d22a",
   "metadata": {},
   "outputs": [
    {
     "name": "stdout",
     "output_type": "stream",
     "text": [
      "tensor([[7.0841e-04, 9.9756e-01, 1.7350e-03],\n",
      "        [9.0283e-04, 9.9772e-01, 1.3794e-03],\n",
      "        [8.9843e-04, 9.9745e-01, 1.6466e-03],\n",
      "        ...,\n",
      "        [7.6378e-01, 1.3632e-01, 9.9909e-02],\n",
      "        [5.9180e-01, 4.7002e-03, 4.0350e-01],\n",
      "        [9.2876e-01, 2.8183e-02, 4.3059e-02]])\n"
     ]
    }
   ],
   "source": [
    "logits = predictions.predictions\n",
    "probs = torch.softmax(torch.tensor(logits), dim=-1)\n",
    "predicted_labels = torch.argmax(probs, dim=-1).numpy()\n",
    "\n",
    "# 得到了一个三分类的概率矩阵\n",
    "print(probs)"
   ]
  },
  {
   "cell_type": "code",
   "execution_count": 22,
   "id": "ff37a951-eaa4-45d3-ad21-2a80b440f03e",
   "metadata": {},
   "outputs": [
    {
     "name": "stdout",
     "output_type": "stream",
     "text": [
      "{'accuracy': 0.7734375, 'f1_score': 0.773221231898055}\n"
     ]
    }
   ],
   "source": [
    "\n",
    "logits, labels = predictions.predictions, predictions.label_ids\n",
    "\n",
    "results = compute_metrics((logits, labels))\n",
    "print(results)\n"
   ]
  },
  {
   "cell_type": "code",
   "execution_count": 23,
   "id": "e64e8f78-3caa-41af-b49d-b1667e3f441f",
   "metadata": {},
   "outputs": [],
   "source": [
    "#两项指标要比testset低一点点，但感觉完全能接受了"
   ]
  },
  {
   "cell_type": "code",
   "execution_count": null,
   "id": "232d0c8f-e99c-4ad0-978b-96c8761a183e",
   "metadata": {},
   "outputs": [],
   "source": []
  },
  {
   "cell_type": "code",
   "execution_count": 24,
   "id": "86ad6525-223e-438d-80fb-c3c72090ffc5",
   "metadata": {},
   "outputs": [
    {
     "data": {
      "text/plain": [
       "('/scratch/lb4489/LLM/MY_model/tokenizer_config.json',\n",
       " '/scratch/lb4489/LLM/MY_model/special_tokens_map.json',\n",
       " '/scratch/lb4489/LLM/MY_model/vocab.txt',\n",
       " '/scratch/lb4489/LLM/MY_model/added_tokens.json')"
      ]
     },
     "execution_count": 24,
     "metadata": {},
     "output_type": "execute_result"
    }
   ],
   "source": [
    "trainer.save_model(\"/scratch/lb4489/LLM/MY_model\")\n",
    "tokenizer.save_pretrained(\"/scratch/lb4489/LLM/MY_model\")"
   ]
  },
  {
   "cell_type": "code",
   "execution_count": null,
   "id": "06274a3d-d2ca-4937-acf0-c53ce23eb15f",
   "metadata": {},
   "outputs": [],
   "source": [
    "#from transformers import AutoModelForSequenceClassification, AutoTokenizer\n",
    "\n",
    "#model = AutoModelForSequenceClassification.from_pretrained(\"./my_trained_model\")\n",
    "#tokenizer = AutoTokenizer.from_pretrained(\"./my_trained_model\")\n",
    "#如果下次使用的话"
   ]
  }
 ],
 "metadata": {
  "kernelspec": {
   "display_name": "Python (transformers)",
   "language": "python",
   "name": "transformers"
  },
  "language_info": {
   "codemirror_mode": {
    "name": "ipython",
    "version": 3
   },
   "file_extension": ".py",
   "mimetype": "text/x-python",
   "name": "python",
   "nbconvert_exporter": "python",
   "pygments_lexer": "ipython3",
   "version": "3.10.12"
  }
 },
 "nbformat": 4,
 "nbformat_minor": 5
}
